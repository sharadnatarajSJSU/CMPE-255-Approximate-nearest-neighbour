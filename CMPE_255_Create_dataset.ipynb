{
  "nbformat": 4,
  "nbformat_minor": 0,
  "metadata": {
    "colab": {
      "name": "CMPE 255 - Create dataset",
      "provenance": []
    },
    "kernelspec": {
      "name": "python3",
      "display_name": "Python 3"
    },
    "language_info": {
      "name": "python"
    }
  },
  "cells": [
    {
      "cell_type": "code",
      "metadata": {
        "colab": {
          "base_uri": "https://localhost:8080/"
        },
        "id": "o87eLA8oTx-k",
        "outputId": "e7ae41e9-42b3-4da4-aa46-1ef3bb531a75"
      },
      "source": [
        "!pip install LightFM"
      ],
      "execution_count": 2,
      "outputs": [
        {
          "output_type": "stream",
          "name": "stdout",
          "text": [
            "Collecting LightFM\n",
            "  Downloading lightfm-1.16.tar.gz (310 kB)\n",
            "\u001b[?25l\r\u001b[K     |█                               | 10 kB 24.1 MB/s eta 0:00:01\r\u001b[K     |██▏                             | 20 kB 27.0 MB/s eta 0:00:01\r\u001b[K     |███▏                            | 30 kB 12.0 MB/s eta 0:00:01\r\u001b[K     |████▎                           | 40 kB 9.3 MB/s eta 0:00:01\r\u001b[K     |█████▎                          | 51 kB 5.2 MB/s eta 0:00:01\r\u001b[K     |██████▍                         | 61 kB 5.7 MB/s eta 0:00:01\r\u001b[K     |███████▍                        | 71 kB 5.5 MB/s eta 0:00:01\r\u001b[K     |████████▌                       | 81 kB 6.1 MB/s eta 0:00:01\r\u001b[K     |█████████▌                      | 92 kB 4.7 MB/s eta 0:00:01\r\u001b[K     |██████████▋                     | 102 kB 5.1 MB/s eta 0:00:01\r\u001b[K     |███████████▋                    | 112 kB 5.1 MB/s eta 0:00:01\r\u001b[K     |████████████▊                   | 122 kB 5.1 MB/s eta 0:00:01\r\u001b[K     |█████████████▊                  | 133 kB 5.1 MB/s eta 0:00:01\r\u001b[K     |██████████████▉                 | 143 kB 5.1 MB/s eta 0:00:01\r\u001b[K     |███████████████▉                | 153 kB 5.1 MB/s eta 0:00:01\r\u001b[K     |█████████████████               | 163 kB 5.1 MB/s eta 0:00:01\r\u001b[K     |██████████████████              | 174 kB 5.1 MB/s eta 0:00:01\r\u001b[K     |███████████████████             | 184 kB 5.1 MB/s eta 0:00:01\r\u001b[K     |████████████████████            | 194 kB 5.1 MB/s eta 0:00:01\r\u001b[K     |█████████████████████▏          | 204 kB 5.1 MB/s eta 0:00:01\r\u001b[K     |██████████████████████▏         | 215 kB 5.1 MB/s eta 0:00:01\r\u001b[K     |███████████████████████▎        | 225 kB 5.1 MB/s eta 0:00:01\r\u001b[K     |████████████████████████▎       | 235 kB 5.1 MB/s eta 0:00:01\r\u001b[K     |█████████████████████████▍      | 245 kB 5.1 MB/s eta 0:00:01\r\u001b[K     |██████████████████████████▍     | 256 kB 5.1 MB/s eta 0:00:01\r\u001b[K     |███████████████████████████▌    | 266 kB 5.1 MB/s eta 0:00:01\r\u001b[K     |████████████████████████████▌   | 276 kB 5.1 MB/s eta 0:00:01\r\u001b[K     |█████████████████████████████▋  | 286 kB 5.1 MB/s eta 0:00:01\r\u001b[K     |██████████████████████████████▋ | 296 kB 5.1 MB/s eta 0:00:01\r\u001b[K     |███████████████████████████████▊| 307 kB 5.1 MB/s eta 0:00:01\r\u001b[K     |████████████████████████████████| 310 kB 5.1 MB/s \n",
            "\u001b[?25hRequirement already satisfied: numpy in /usr/local/lib/python3.7/dist-packages (from LightFM) (1.19.5)\n",
            "Requirement already satisfied: scipy>=0.17.0 in /usr/local/lib/python3.7/dist-packages (from LightFM) (1.4.1)\n",
            "Requirement already satisfied: requests in /usr/local/lib/python3.7/dist-packages (from LightFM) (2.23.0)\n",
            "Requirement already satisfied: scikit-learn in /usr/local/lib/python3.7/dist-packages (from LightFM) (1.0.1)\n",
            "Requirement already satisfied: chardet<4,>=3.0.2 in /usr/local/lib/python3.7/dist-packages (from requests->LightFM) (3.0.4)\n",
            "Requirement already satisfied: urllib3!=1.25.0,!=1.25.1,<1.26,>=1.21.1 in /usr/local/lib/python3.7/dist-packages (from requests->LightFM) (1.24.3)\n",
            "Requirement already satisfied: idna<3,>=2.5 in /usr/local/lib/python3.7/dist-packages (from requests->LightFM) (2.10)\n",
            "Requirement already satisfied: certifi>=2017.4.17 in /usr/local/lib/python3.7/dist-packages (from requests->LightFM) (2021.10.8)\n",
            "Requirement already satisfied: joblib>=0.11 in /usr/local/lib/python3.7/dist-packages (from scikit-learn->LightFM) (1.1.0)\n",
            "Requirement already satisfied: threadpoolctl>=2.0.0 in /usr/local/lib/python3.7/dist-packages (from scikit-learn->LightFM) (3.0.0)\n",
            "Building wheels for collected packages: LightFM\n",
            "  Building wheel for LightFM (setup.py) ... \u001b[?25l\u001b[?25hdone\n",
            "  Created wheel for LightFM: filename=lightfm-1.16-cp37-cp37m-linux_x86_64.whl size=705355 sha256=746b81a4cc10b1775e7b0fa2f7eb86eb38a5925fca977c393d363baa75c66dc0\n",
            "  Stored in directory: /root/.cache/pip/wheels/f8/56/28/5772a3bd3413d65f03aa452190b00898b680b10028a1021914\n",
            "Successfully built LightFM\n",
            "Installing collected packages: LightFM\n",
            "Successfully installed LightFM-1.16\n"
          ]
        }
      ]
    },
    {
      "cell_type": "code",
      "metadata": {
        "id": "GfDX287YTqpj"
      },
      "source": [
        "from lightfm import LightFM\n",
        "from lightfm.datasets import fetch_movielens\n",
        "import pickle"
      ],
      "execution_count": 3,
      "outputs": []
    },
    {
      "cell_type": "code",
      "metadata": {
        "id": "YrX79zPaT4_I"
      },
      "source": [
        "movie_data = fetch_movielens()"
      ],
      "execution_count": 4,
      "outputs": []
    },
    {
      "cell_type": "code",
      "metadata": {
        "id": "ZwUMQ6t0UELg"
      },
      "source": [
        "train = movie_data['train']\n",
        "test = movie_data['test']"
      ],
      "execution_count": 6,
      "outputs": []
    },
    {
      "cell_type": "code",
      "metadata": {
        "colab": {
          "base_uri": "https://localhost:8080/"
        },
        "id": "jFVgs012UNNT",
        "outputId": "755eb287-350e-46a0-f602-42e8ddc83d8b"
      },
      "source": [
        "model = LightFM(learning_rate=0.05, loss='warp', no_components=64, item_alpha=0.001)\n",
        "model.fit_partial(train, item_features=movie_data['item_features'], epochs=20 )"
      ],
      "execution_count": 8,
      "outputs": [
        {
          "output_type": "execute_result",
          "data": {
            "text/plain": [
              "<lightfm.lightfm.LightFM at 0x7fc5ff811e50>"
            ]
          },
          "metadata": {},
          "execution_count": 8
        }
      ]
    },
    {
      "cell_type": "code",
      "metadata": {
        "id": "7FpsuQohUThY"
      },
      "source": [
        "item_vectors = movie_data['item_features'] * model.item_embeddings"
      ],
      "execution_count": 10,
      "outputs": []
    },
    {
      "cell_type": "code",
      "metadata": {
        "id": "abjzFcJcUadY"
      },
      "source": [
        "with open('movies.pickle', 'wb') as f:\n",
        "    pickle.dump({\"name\": movie_data['item_labels'], \"vector\": item_vectors}, f)"
      ],
      "execution_count": 11,
      "outputs": []
    }
  ]
}