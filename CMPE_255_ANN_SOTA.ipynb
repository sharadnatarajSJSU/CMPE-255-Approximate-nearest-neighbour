{
  "nbformat": 4,
  "nbformat_minor": 0,
  "metadata": {
    "colab": {
      "name": "CMPE 255 ANN SOTA",
      "provenance": [],
      "authorship_tag": "ABX9TyOr0DXctFeqHNRJlhe2zzDk",
      "include_colab_link": true
    },
    "kernelspec": {
      "name": "python3",
      "display_name": "Python 3"
    },
    "language_info": {
      "name": "python"
    }
  },
  "cells": [
    {
      "cell_type": "markdown",
      "metadata": {
        "id": "view-in-github",
        "colab_type": "text"
      },
      "source": [
        "<a href=\"https://colab.research.google.com/github/sharadnatarajSJSU/CMPE-255-Approximate-nearest-neighbour/blob/main/CMPE_255_ANN_SOTA.ipynb\" target=\"_parent\"><img src=\"https://colab.research.google.com/assets/colab-badge.svg\" alt=\"Open In Colab\"/></a>"
      ]
    },
    {
      "cell_type": "code",
      "metadata": {
        "id": "TwqnukdxOPjs"
      },
      "source": [
        "import pickle\n"
      ],
      "execution_count": 1,
      "outputs": []
    },
    {
      "cell_type": "code",
      "metadata": {
        "colab": {
          "base_uri": "https://localhost:8080/"
        },
        "id": "xJUYD-__PogY",
        "outputId": "4d1549e0-a906-4089-8923-8ba073ddf408"
      },
      "source": [
        "!apt install libomp-dev\n",
        "!python -m pip install --upgrade faiss faiss-gpu\n"
      ],
      "execution_count": 4,
      "outputs": [
        {
          "output_type": "stream",
          "name": "stdout",
          "text": [
            "Reading package lists... Done\n",
            "Building dependency tree       \n",
            "Reading state information... Done\n",
            "libomp-dev is already the newest version (5.0.1-1).\n",
            "0 upgraded, 0 newly installed, 0 to remove and 37 not upgraded.\n",
            "Requirement already satisfied: faiss in /usr/local/lib/python3.7/dist-packages (1.5.3)\n",
            "Requirement already satisfied: faiss-gpu in /usr/local/lib/python3.7/dist-packages (1.7.1.post2)\n",
            "Requirement already satisfied: numpy in /usr/local/lib/python3.7/dist-packages (from faiss) (1.19.5)\n"
          ]
        }
      ]
    },
    {
      "cell_type": "code",
      "metadata": {
        "colab": {
          "base_uri": "https://localhost:8080/"
        },
        "id": "f4wUJbgMzfEn",
        "outputId": "99b018eb-94b9-4abd-8f3c-c1407dccd37c"
      },
      "source": [
        "pip install --upgrade faiss-gpu==1.7.1"
      ],
      "execution_count": 7,
      "outputs": [
        {
          "output_type": "stream",
          "name": "stdout",
          "text": [
            "Collecting faiss-gpu==1.7.1\n",
            "  Downloading faiss_gpu-1.7.1-cp37-cp37m-manylinux_2_17_x86_64.manylinux2014_x86_64.whl (89.7 MB)\n",
            "\u001b[K     |████████████████████████████████| 89.7 MB 15 kB/s \n",
            "\u001b[?25hInstalling collected packages: faiss-gpu\n",
            "  Attempting uninstall: faiss-gpu\n",
            "    Found existing installation: faiss-gpu 1.7.1.post2\n",
            "    Uninstalling faiss-gpu-1.7.1.post2:\n",
            "      Successfully uninstalled faiss-gpu-1.7.1.post2\n",
            "Successfully installed faiss-gpu-1.7.1\n"
          ]
        }
      ]
    },
    {
      "cell_type": "code",
      "metadata": {
        "id": "1ueY0Q0RPr7Q"
      },
      "source": [
        "import faiss"
      ],
      "execution_count": 8,
      "outputs": []
    },
    {
      "cell_type": "markdown",
      "metadata": {
        "id": "eLJc3fMWVxwh"
      },
      "source": [
        "The data set movies.pickle was created by combining labels and vectors of each movie using LightFm model.  https://colab.research.google.com/drive/1D6lbgua72MaOMtEKDO6N0EemU6TNLa99#scrollTo=abjzFcJcUadY"
      ]
    },
    {
      "cell_type": "code",
      "metadata": {
        "id": "6x9NSyYvRWDM"
      },
      "source": [
        "def load_data():\n",
        "    with open('movies.pickle', 'rb') as f:\n",
        "        data = pickle.load(f)\n",
        "    return data"
      ],
      "execution_count": 9,
      "outputs": []
    },
    {
      "cell_type": "code",
      "metadata": {
        "colab": {
          "base_uri": "https://localhost:8080/"
        },
        "id": "EKAWLyt2Rpfh",
        "outputId": "a1b473cc-59d2-481e-88bf-f49c82e3797f"
      },
      "source": [
        "data = load_data()\n",
        "vectors = data[\"vector\"]\n",
        "names = data[\"name\"]\n",
        "data"
      ],
      "execution_count": 11,
      "outputs": [
        {
          "output_type": "execute_result",
          "data": {
            "text/plain": [
              "{'name': array(['Toy Story (1995)', 'GoldenEye (1995)', 'Four Rooms (1995)', ...,\n",
              "        'Sliding Doors (1998)', 'You So Crazy (1994)',\n",
              "        'Scream of Stone (Schrei aus Stein) (1991)'], dtype=object),\n",
              " 'vector': array([[-0.01780608, -0.14265831,  0.10308606, ...,  0.09659795,\n",
              "         -0.17529577, -0.03061521],\n",
              "        [-0.03357764,  0.16418771,  0.21801303, ...,  0.16502103,\n",
              "         -0.09166156,  0.05047869],\n",
              "        [-0.2761452 , -0.01991325, -0.04969981, ...,  0.0258275 ,\n",
              "         -0.08328608, -0.0152858 ],\n",
              "        ...,\n",
              "        [ 0.05142734, -0.01683608, -0.20441587, ...,  0.00045828,\n",
              "          0.14679626,  0.2462584 ],\n",
              "        [ 0.04491899, -0.02819411, -0.09472758, ..., -0.02152078,\n",
              "          0.16223577,  0.19897607],\n",
              "        [ 0.02531924,  0.03099714,  0.06437534, ..., -0.07260127,\n",
              "          0.0467432 ,  0.07893164]], dtype=float32)}"
            ]
          },
          "metadata": {},
          "execution_count": 11
        }
      ]
    },
    {
      "cell_type": "markdown",
      "metadata": {
        "id": "fRhMDum9UzvV"
      },
      "source": [
        "#Exhaustive searach"
      ]
    },
    {
      "cell_type": "code",
      "metadata": {
        "colab": {
          "base_uri": "https://localhost:8080/"
        },
        "id": "n-cSdjQHRqfX",
        "outputId": "cfea8e53-ab58-4ba3-d6d3-60dde24f7f1b"
      },
      "source": [
        "faiss.MatrixStats(vectors).comments.split(\"\\n\")"
      ],
      "execution_count": 13,
      "outputs": [
        {
          "output_type": "execute_result",
          "data": {
            "text/plain": [
              "['analyzing 1682 vectors of size 64',\n",
              " 'no NaN or Infs in data',\n",
              " 'all vectors are distinct',\n",
              " 'range of L2 norms=[0.747558, 1.80436] (0 null vectors)',\n",
              " 'matrix contains no 0s',\n",
              " 'no constant dimensions',\n",
              " 'no dimension has a too large mean',\n",
              " 'stddevs per dimension are in [0.112036 0.158214]',\n",
              " '']"
            ]
          },
          "metadata": {},
          "execution_count": 13
        }
      ]
    },
    {
      "cell_type": "markdown",
      "metadata": {
        "id": "vtXzhgzcVCwI"
      },
      "source": [
        "Some statistics regarding the created data set"
      ]
    },
    {
      "cell_type": "markdown",
      "metadata": {
        "id": "nvsH6jmlWOFc"
      },
      "source": [
        "Using Faiss IndexFlatL2  to search indexes of the movie dataset to create a queryable index."
      ]
    },
    {
      "cell_type": "code",
      "metadata": {
        "id": "ZUs3DWoFWCOi"
      },
      "source": [
        "movie_index = faiss.IndexFlatL2(vectors.shape[1])\n",
        "movie_index.add(vectors)"
      ],
      "execution_count": 14,
      "outputs": []
    },
    {
      "cell_type": "code",
      "metadata": {
        "colab": {
          "base_uri": "https://localhost:8080/"
        },
        "id": "D2wdS7T-Wb_u",
        "outputId": "fc380fe7-24b2-4279-ccad-318b741e5137"
      },
      "source": [
        "movie_index"
      ],
      "execution_count": 15,
      "outputs": [
        {
          "output_type": "execute_result",
          "data": {
            "text/plain": [
              "<faiss.swigfaiss.IndexFlatL2; proxy of <Swig Object of type 'faiss::IndexFlatL2 *' at 0x7f493dee5b40> >"
            ]
          },
          "metadata": {},
          "execution_count": 15
        }
      ]
    },
    {
      "cell_type": "code",
      "metadata": {
        "id": "sB9IRkLiWeXw"
      },
      "source": [
        "distances, indices = movie_index.search(vectors[55:56], 10)"
      ],
      "execution_count": 16,
      "outputs": []
    },
    {
      "cell_type": "code",
      "metadata": {
        "colab": {
          "base_uri": "https://localhost:8080/"
        },
        "id": "xygRuv7_Wz6T",
        "outputId": "fd5a8fed-186f-40d6-f529-891cc1bd73bc"
      },
      "source": [
        "print(f\"The most similar movies to {names[55]} are:\\n\")\n",
        "print([names[i] for i in indices[0]])"
      ],
      "execution_count": 17,
      "outputs": [
        {
          "output_type": "stream",
          "name": "stdout",
          "text": [
            "The most similar movies to Pulp Fiction (1994) are:\n",
            "\n",
            "['Pulp Fiction (1994)', 'Silence of the Lambs, The (1991)', 'Fugitive, The (1993)', 'Clockwork Orange, A (1971)', 'Indiana Jones and the Last Crusade (1989)', 'Seven (Se7en) (1995)', 'Raiders of the Lost Ark (1981)', 'Raising Arizona (1987)', 'Terminator, The (1984)', 'Usual Suspects, The (1995)']\n"
          ]
        }
      ]
    },
    {
      "cell_type": "code",
      "metadata": {
        "id": "sE1xJPjfZ5aU"
      },
      "source": [
        "class getindex():\n",
        "    def __init__(self, vectors, labels):\n",
        "        self.dimension = vectors.shape[1]\n",
        "        self.vectors = vectors.astype('float32')\n",
        "        self.labels = labels    \n",
        "   \n",
        "    def build(self):\n",
        "        self.index = faiss.IndexFlatL2(self.dimension,)\n",
        "        self.index.add(self.vectors)\n",
        "        \n",
        "    def query(self, vectors, k=10):\n",
        "        distances, indices = self.index.search(vectors, k) \n",
        "        # I expect only query on one vector thus the slice\n",
        "        return [self.labels[i] for i in indices[0]]"
      ],
      "execution_count": 18,
      "outputs": []
    },
    {
      "cell_type": "code",
      "metadata": {
        "id": "PnaA1SqZaB_g"
      },
      "source": [
        "data_index = getindex(data[\"vector\"], data[\"name\"])"
      ],
      "execution_count": 19,
      "outputs": []
    },
    {
      "cell_type": "code",
      "metadata": {
        "id": "PaGvjM4YbIru"
      },
      "source": [
        "data_index.build()"
      ],
      "execution_count": 20,
      "outputs": []
    },
    {
      "cell_type": "code",
      "metadata": {
        "colab": {
          "base_uri": "https://localhost:8080/"
        },
        "id": "e5ofVNnpbMnH",
        "outputId": "69e913da-51a7-45bc-daf3-9023467450b9"
      },
      "source": [
        "data_index.query(data['vector'])"
      ],
      "execution_count": 21,
      "outputs": [
        {
          "output_type": "execute_result",
          "data": {
            "text/plain": [
              "['Toy Story (1995)',\n",
              " 'Rock, The (1996)',\n",
              " 'Return of the Jedi (1983)',\n",
              " 'Willy Wonka and the Chocolate Factory (1971)',\n",
              " 'Phenomenon (1996)',\n",
              " 'Star Trek: First Contact (1996)',\n",
              " 'Star Wars (1977)',\n",
              " 'Hunchback of Notre Dame, The (1996)',\n",
              " 'Birdcage, The (1996)',\n",
              " 'Mars Attacks! (1996)']"
            ]
          },
          "metadata": {},
          "execution_count": 21
        }
      ]
    },
    {
      "cell_type": "markdown",
      "metadata": {
        "id": "mr8qklBScC-0"
      },
      "source": [
        "#Product quantization"
      ]
    },
    {
      "cell_type": "code",
      "metadata": {
        "id": "oZ0nHdYicFWv"
      },
      "source": [
        "product_quantizer = faiss.IndexFlatL2(vectors.shape[1])"
      ],
      "execution_count": 22,
      "outputs": []
    },
    {
      "cell_type": "markdown",
      "metadata": {
        "id": "A56ac1Zg3Tnu"
      },
      "source": [
        "100 8 and 8 represent the number of partitions, the search radius and vector size"
      ]
    },
    {
      "cell_type": "code",
      "metadata": {
        "id": "BKCo406A3LBG"
      },
      "source": [
        "pq_index = faiss.IndexIVFPQ(product_quantizer, vectors.shape[1],100,8,8)"
      ],
      "execution_count": 25,
      "outputs": []
    },
    {
      "cell_type": "code",
      "metadata": {
        "id": "-_8vqz2k3b0H"
      },
      "source": [
        "pq_index.train(vectors)\n",
        "pq_index.add(vectors)"
      ],
      "execution_count": 26,
      "outputs": []
    },
    {
      "cell_type": "code",
      "metadata": {
        "id": "_sDIe2Z93lb7"
      },
      "source": [
        "distances, indices = index.search(vectors[0:1], 10)"
      ],
      "execution_count": 30,
      "outputs": []
    },
    {
      "cell_type": "code",
      "metadata": {
        "colab": {
          "base_uri": "https://localhost:8080/"
        },
        "id": "x42Zc-UX31bI",
        "outputId": "2bedc7b7-80bc-4622-b32b-607c7084aa87"
      },
      "source": [
        "print([names[i] for i in indices[0]])"
      ],
      "execution_count": 31,
      "outputs": [
        {
          "output_type": "stream",
          "name": "stdout",
          "text": [
            "['Scream of Stone (Schrei aus Stein) (1991)', 'Scream of Stone (Schrei aus Stein) (1991)', 'Scream of Stone (Schrei aus Stein) (1991)', 'Scream of Stone (Schrei aus Stein) (1991)', 'Scream of Stone (Schrei aus Stein) (1991)', 'Scream of Stone (Schrei aus Stein) (1991)', 'Scream of Stone (Schrei aus Stein) (1991)', 'Scream of Stone (Schrei aus Stein) (1991)', 'Scream of Stone (Schrei aus Stein) (1991)', 'Scream of Stone (Schrei aus Stein) (1991)']\n"
          ]
        }
      ]
    },
    {
      "cell_type": "markdown",
      "metadata": {
        "id": "5Bkb7jEI37sc"
      },
      "source": [
        "We will build a queryable index class in the same way as Exhaustive search"
      ]
    },
    {
      "cell_type": "code",
      "metadata": {
        "id": "eU_anMkC4BHe"
      },
      "source": [
        "class IVPQIndex():\n",
        "    def __init__(self, vectors, labels):\n",
        "        self.dimension = vectors.shape[1]\n",
        "        self.vectors = vectors.astype('float32')\n",
        "        self.labels = labels    \n",
        "    def build(self,number_of_partition=8,search_in_x_partitions=2,subvector_size=8):\n",
        "            quantizer = faiss.IndexFlatL2(self.dimension)\n",
        "            self.index = faiss.IndexIVFPQ(quantizer, self.dimension,number_of_partition,search_in_x_partitions,subvector_size)\n",
        "            self.index.train(self.vectors)\n",
        "            self.index.add(self.vectors)\n",
        "        \n",
        "    def query(self, vectors, k=10):\n",
        "        distances, indices = self.index.search(vectors, k) \n",
        "        # I expect only query on one vector thus the slice\n",
        "        return [self.labels[i] for i in indices[0]]"
      ],
      "execution_count": 45,
      "outputs": []
    },
    {
      "cell_type": "code",
      "metadata": {
        "id": "-8U7c2PI4gd-"
      },
      "source": [
        "pq_index = IVPQIndex(data[\"vector\"], data[\"name\"])\n",
        "pq_index.build()"
      ],
      "execution_count": 41,
      "outputs": []
    },
    {
      "cell_type": "code",
      "metadata": {
        "colab": {
          "base_uri": "https://localhost:8080/"
        },
        "id": "NDmhH4tk434e",
        "outputId": "28342e69-a321-49a8-eaf7-78a23299583b"
      },
      "source": [
        "pq_index.query(data['vector'][0:1])"
      ],
      "execution_count": 46,
      "outputs": [
        {
          "output_type": "execute_result",
          "data": {
            "text/plain": [
              "['Toy Story (1995)',\n",
              " 'Fifth Element, The (1997)',\n",
              " 'Men in Black (1997)',\n",
              " 'James and the Giant Peach (1996)',\n",
              " 'Phenomenon (1996)',\n",
              " 'Hunchback of Notre Dame, The (1996)',\n",
              " 'Star Trek: First Contact (1996)',\n",
              " 'Twister (1996)',\n",
              " 'Willy Wonka and the Chocolate Factory (1971)',\n",
              " \"My Best Friend's Wedding (1997)\"]"
            ]
          },
          "metadata": {},
          "execution_count": 46
        }
      ]
    },
    {
      "cell_type": "markdown",
      "metadata": {
        "id": "F_mMsxDb5PpK"
      },
      "source": [
        "#Vector encoding using trees and graphs"
      ]
    },
    {
      "cell_type": "code",
      "metadata": {
        "colab": {
          "base_uri": "https://localhost:8080/"
        },
        "id": "5QRbQ1BQIwjF",
        "outputId": "d3297804-d4c1-4e81-91e8-ac5adde68748"
      },
      "source": [
        "!pip install annoy"
      ],
      "execution_count": 54,
      "outputs": [
        {
          "output_type": "stream",
          "name": "stdout",
          "text": [
            "Collecting annoy\n",
            "  Downloading annoy-1.17.0.tar.gz (646 kB)\n",
            "\u001b[?25l\r\u001b[K     |▌                               | 10 kB 17.5 MB/s eta 0:00:01\r\u001b[K     |█                               | 20 kB 20.9 MB/s eta 0:00:01\r\u001b[K     |█▌                              | 30 kB 24.7 MB/s eta 0:00:01\r\u001b[K     |██                              | 40 kB 15.2 MB/s eta 0:00:01\r\u001b[K     |██▌                             | 51 kB 10.9 MB/s eta 0:00:01\r\u001b[K     |███                             | 61 kB 10.9 MB/s eta 0:00:01\r\u001b[K     |███▌                            | 71 kB 9.0 MB/s eta 0:00:01\r\u001b[K     |████                            | 81 kB 9.9 MB/s eta 0:00:01\r\u001b[K     |████▋                           | 92 kB 9.5 MB/s eta 0:00:01\r\u001b[K     |█████                           | 102 kB 9.1 MB/s eta 0:00:01\r\u001b[K     |█████▋                          | 112 kB 9.1 MB/s eta 0:00:01\r\u001b[K     |██████                          | 122 kB 9.1 MB/s eta 0:00:01\r\u001b[K     |██████▋                         | 133 kB 9.1 MB/s eta 0:00:01\r\u001b[K     |███████                         | 143 kB 9.1 MB/s eta 0:00:01\r\u001b[K     |███████▋                        | 153 kB 9.1 MB/s eta 0:00:01\r\u001b[K     |████████▏                       | 163 kB 9.1 MB/s eta 0:00:01\r\u001b[K     |████████▋                       | 174 kB 9.1 MB/s eta 0:00:01\r\u001b[K     |█████████▏                      | 184 kB 9.1 MB/s eta 0:00:01\r\u001b[K     |█████████▋                      | 194 kB 9.1 MB/s eta 0:00:01\r\u001b[K     |██████████▏                     | 204 kB 9.1 MB/s eta 0:00:01\r\u001b[K     |██████████▋                     | 215 kB 9.1 MB/s eta 0:00:01\r\u001b[K     |███████████▏                    | 225 kB 9.1 MB/s eta 0:00:01\r\u001b[K     |███████████▋                    | 235 kB 9.1 MB/s eta 0:00:01\r\u001b[K     |████████████▏                   | 245 kB 9.1 MB/s eta 0:00:01\r\u001b[K     |████████████▊                   | 256 kB 9.1 MB/s eta 0:00:01\r\u001b[K     |█████████████▏                  | 266 kB 9.1 MB/s eta 0:00:01\r\u001b[K     |█████████████▊                  | 276 kB 9.1 MB/s eta 0:00:01\r\u001b[K     |██████████████▏                 | 286 kB 9.1 MB/s eta 0:00:01\r\u001b[K     |██████████████▊                 | 296 kB 9.1 MB/s eta 0:00:01\r\u001b[K     |███████████████▏                | 307 kB 9.1 MB/s eta 0:00:01\r\u001b[K     |███████████████▊                | 317 kB 9.1 MB/s eta 0:00:01\r\u001b[K     |████████████████▎               | 327 kB 9.1 MB/s eta 0:00:01\r\u001b[K     |████████████████▊               | 337 kB 9.1 MB/s eta 0:00:01\r\u001b[K     |█████████████████▎              | 348 kB 9.1 MB/s eta 0:00:01\r\u001b[K     |█████████████████▊              | 358 kB 9.1 MB/s eta 0:00:01\r\u001b[K     |██████████████████▎             | 368 kB 9.1 MB/s eta 0:00:01\r\u001b[K     |██████████████████▊             | 378 kB 9.1 MB/s eta 0:00:01\r\u001b[K     |███████████████████▎            | 389 kB 9.1 MB/s eta 0:00:01\r\u001b[K     |███████████████████▊            | 399 kB 9.1 MB/s eta 0:00:01\r\u001b[K     |████████████████████▎           | 409 kB 9.1 MB/s eta 0:00:01\r\u001b[K     |████████████████████▉           | 419 kB 9.1 MB/s eta 0:00:01\r\u001b[K     |█████████████████████▎          | 430 kB 9.1 MB/s eta 0:00:01\r\u001b[K     |█████████████████████▉          | 440 kB 9.1 MB/s eta 0:00:01\r\u001b[K     |██████████████████████▎         | 450 kB 9.1 MB/s eta 0:00:01\r\u001b[K     |██████████████████████▉         | 460 kB 9.1 MB/s eta 0:00:01\r\u001b[K     |███████████████████████▎        | 471 kB 9.1 MB/s eta 0:00:01\r\u001b[K     |███████████████████████▉        | 481 kB 9.1 MB/s eta 0:00:01\r\u001b[K     |████████████████████████▍       | 491 kB 9.1 MB/s eta 0:00:01\r\u001b[K     |████████████████████████▉       | 501 kB 9.1 MB/s eta 0:00:01\r\u001b[K     |█████████████████████████▍      | 512 kB 9.1 MB/s eta 0:00:01\r\u001b[K     |█████████████████████████▉      | 522 kB 9.1 MB/s eta 0:00:01\r\u001b[K     |██████████████████████████▍     | 532 kB 9.1 MB/s eta 0:00:01\r\u001b[K     |██████████████████████████▉     | 542 kB 9.1 MB/s eta 0:00:01\r\u001b[K     |███████████████████████████▍    | 552 kB 9.1 MB/s eta 0:00:01\r\u001b[K     |███████████████████████████▉    | 563 kB 9.1 MB/s eta 0:00:01\r\u001b[K     |████████████████████████████▍   | 573 kB 9.1 MB/s eta 0:00:01\r\u001b[K     |█████████████████████████████   | 583 kB 9.1 MB/s eta 0:00:01\r\u001b[K     |█████████████████████████████▍  | 593 kB 9.1 MB/s eta 0:00:01\r\u001b[K     |██████████████████████████████  | 604 kB 9.1 MB/s eta 0:00:01\r\u001b[K     |██████████████████████████████▍ | 614 kB 9.1 MB/s eta 0:00:01\r\u001b[K     |███████████████████████████████ | 624 kB 9.1 MB/s eta 0:00:01\r\u001b[K     |███████████████████████████████▍| 634 kB 9.1 MB/s eta 0:00:01\r\u001b[K     |████████████████████████████████| 645 kB 9.1 MB/s eta 0:00:01\r\u001b[K     |████████████████████████████████| 646 kB 9.1 MB/s \n",
            "\u001b[?25hBuilding wheels for collected packages: annoy\n",
            "  Building wheel for annoy (setup.py) ... \u001b[?25l\u001b[?25hdone\n",
            "  Created wheel for annoy: filename=annoy-1.17.0-cp37-cp37m-linux_x86_64.whl size=391668 sha256=04d1145600ef0ff6f47c0f6029f7ec0993803cb82514659b11fff14ea9b1a442\n",
            "  Stored in directory: /root/.cache/pip/wheels/4f/e8/1e/7cc9ebbfa87a3b9f8ba79408d4d31831d67eea918b679a4c07\n",
            "Successfully built annoy\n",
            "Installing collected packages: annoy\n",
            "Successfully installed annoy-1.17.0\n"
          ]
        }
      ]
    },
    {
      "cell_type": "code",
      "metadata": {
        "id": "xLuZ_U7hJE1k"
      },
      "source": [
        "import annoy"
      ],
      "execution_count": 57,
      "outputs": []
    },
    {
      "cell_type": "code",
      "metadata": {
        "id": "q_bHASL1C61W"
      },
      "source": [
        "class Annoyindex():\n",
        "    def __init__(self, vectors, labels):\n",
        "        self.dimension = vectors.shape[1]\n",
        "        self.vectors = vectors.astype('float32')\n",
        "        self.labels = labels    \n",
        "   \n",
        "    def build(self, number_of_trees=5):\n",
        "        self.index = annoy.AnnoyIndex(self.dimension)\n",
        "        for i, vec in enumerate(self.vectors):\n",
        "            self.index.add_item(i, vec.tolist())\n",
        "        self.index.build(number_of_trees)\n",
        "        \n",
        "    def query(self, vector, k=10):\n",
        "        indices = self.index.get_nns_by_vector(\n",
        "              vector.tolist(), \n",
        "              k, \n",
        "              search_k=10)                                           \n",
        "        return [self.labels[i] for i in indices]"
      ],
      "execution_count": 63,
      "outputs": []
    },
    {
      "cell_type": "code",
      "metadata": {
        "colab": {
          "base_uri": "https://localhost:8080/"
        },
        "id": "rE6tPVymIPSo",
        "outputId": "39f52258-edd4-4ff3-9626-431b96b85525"
      },
      "source": [
        "annoy_index = Annoyindex(data[\"vector\"], data[\"name\"])\n",
        "annoy_index.build()"
      ],
      "execution_count": 64,
      "outputs": [
        {
          "output_type": "stream",
          "name": "stderr",
          "text": [
            "/usr/local/lib/python3.7/dist-packages/ipykernel_launcher.py:8: FutureWarning: The default argument for metric will be removed in future version of Annoy. Please pass metric='angular' explicitly.\n",
            "  \n"
          ]
        }
      ]
    },
    {
      "cell_type": "code",
      "metadata": {
        "colab": {
          "base_uri": "https://localhost:8080/"
        },
        "id": "Ww6FJa8sJH1v",
        "outputId": "9beab6c4-49ea-48ec-e0f9-ae6af1363b21"
      },
      "source": [
        "annoy_index.query(data['vector'][0])"
      ],
      "execution_count": 65,
      "outputs": [
        {
          "output_type": "execute_result",
          "data": {
            "text/plain": [
              "['Toy Story (1995)',\n",
              " 'Rock, The (1996)',\n",
              " 'Return of the Jedi (1983)',\n",
              " 'Star Wars (1977)',\n",
              " 'Willy Wonka and the Chocolate Factory (1971)',\n",
              " 'Star Trek: First Contact (1996)',\n",
              " 'Fargo (1996)',\n",
              " 'Twelve Monkeys (1995)',\n",
              " 'Mission: Impossible (1996)',\n",
              " 'Hunchback of Notre Dame, The (1996)']"
            ]
          },
          "metadata": {},
          "execution_count": 65
        }
      ]
    },
    {
      "cell_type": "markdown",
      "metadata": {
        "id": "XT120lavMKEY"
      },
      "source": [
        "#HNSW"
      ]
    },
    {
      "cell_type": "markdown",
      "metadata": {
        "id": "feVK5xiwhkWr"
      },
      "source": [
        "Hierarchical Navigable Small World Graphs builds graphs based on cosine similarity scores. In our case the similarity score is cosine similarity"
      ]
    },
    {
      "cell_type": "code",
      "metadata": {
        "colab": {
          "base_uri": "https://localhost:8080/"
        },
        "id": "-6U3slNFhSOs",
        "outputId": "190e2047-09b5-4f40-a626-1ddcb0781907"
      },
      "source": [
        "!pip install nmslib"
      ],
      "execution_count": 70,
      "outputs": [
        {
          "output_type": "stream",
          "name": "stdout",
          "text": [
            "Collecting nmslib\n",
            "  Downloading nmslib-2.1.1-cp37-cp37m-manylinux2010_x86_64.whl (13.5 MB)\n",
            "\u001b[K     |████████████████████████████████| 13.5 MB 9.4 MB/s \n",
            "\u001b[?25hRequirement already satisfied: numpy>=1.10.0 in /usr/local/lib/python3.7/dist-packages (from nmslib) (1.19.5)\n",
            "Requirement already satisfied: psutil in /usr/local/lib/python3.7/dist-packages (from nmslib) (5.4.8)\n",
            "Collecting pybind11<2.6.2\n",
            "  Downloading pybind11-2.6.1-py2.py3-none-any.whl (188 kB)\n",
            "\u001b[K     |████████████████████████████████| 188 kB 52.0 MB/s \n",
            "\u001b[?25hInstalling collected packages: pybind11, nmslib\n",
            "Successfully installed nmslib-2.1.1 pybind11-2.6.1\n"
          ]
        }
      ]
    },
    {
      "cell_type": "code",
      "metadata": {
        "id": "brnaybQ_hZyg"
      },
      "source": [
        "import nmslib"
      ],
      "execution_count": 71,
      "outputs": []
    },
    {
      "cell_type": "code",
      "metadata": {
        "id": "1VYXA8ofMUA_"
      },
      "source": [
        "class HSNW_index():\n",
        "    def __init__(self, vectors, labels):\n",
        "        self.dimention = vectors.shape[1]\n",
        "        self.vectors = vectors.astype('float32')\n",
        "        self.labels = labels\n",
        "    def build(self):\n",
        "        self.index = nmslib.init(method='hnsw', space='cosinesimil')\n",
        "        self.index.addDataPointBatch(self.vectors)\n",
        "        self.index.createIndex({'post': 2})\n",
        "        \n",
        "    def query(self, vector, k=10):\n",
        "        indices = self.index.knnQuery(vector, k=k)\n",
        "        return [self.labels[i] for i in indices[0]]"
      ],
      "execution_count": 67,
      "outputs": []
    },
    {
      "cell_type": "code",
      "metadata": {
        "id": "3bjh2YC9hMVA"
      },
      "source": [
        "hnsw = HSNW_index(data[\"vector\"], data[\"name\"])\n",
        "hnsw.build()"
      ],
      "execution_count": 72,
      "outputs": []
    },
    {
      "cell_type": "code",
      "metadata": {
        "colab": {
          "base_uri": "https://localhost:8080/"
        },
        "id": "Bgvq8kGIhcZ8",
        "outputId": "e35c83e4-f370-40f0-ec58-19c97d9a0aa0"
      },
      "source": [
        "hnsw.query(data['vector'][0])"
      ],
      "execution_count": 73,
      "outputs": [
        {
          "output_type": "execute_result",
          "data": {
            "text/plain": [
              "['Toy Story (1995)',\n",
              " 'Rock, The (1996)',\n",
              " 'Return of the Jedi (1983)',\n",
              " 'Star Wars (1977)',\n",
              " 'Willy Wonka and the Chocolate Factory (1971)',\n",
              " 'Star Trek: First Contact (1996)',\n",
              " 'Fargo (1996)',\n",
              " 'Twelve Monkeys (1995)',\n",
              " 'Phenomenon (1996)',\n",
              " 'Men in Black (1997)']"
            ]
          },
          "metadata": {},
          "execution_count": 73
        }
      ]
    },
    {
      "cell_type": "markdown",
      "metadata": {
        "id": "p0Xcny2Fhw3I"
      },
      "source": [
        "#LSH"
      ]
    },
    {
      "cell_type": "markdown",
      "metadata": {
        "id": "a0Qspekwh2IA"
      },
      "source": [
        "Using LSH to create a hash table that will have"
      ]
    },
    {
      "cell_type": "code",
      "metadata": {
        "id": "LxAfhQEBh1ZD"
      },
      "source": [
        "class LSHIndex():\n",
        "    def __init__(self, vectors, labels):\n",
        "        self.dimension = vectors.shape[1]\n",
        "        self.vectors = vectors.astype('float32')\n",
        "        self.labels = labels    \n",
        "   \n",
        "    def build(self, num_bits=8):\n",
        "        self.index = faiss.IndexLSH(self.dimension, num_bits)\n",
        "        self.index.add(self.vectors)\n",
        "        \n",
        "    def query(self, vectors, k=10):\n",
        "        distances, indices = self.index.search(vectors, k) \n",
        "        # I expect only query on one vector thus the slice\n",
        "        return [self.labels[i] for i in indices[0]]"
      ],
      "execution_count": 75,
      "outputs": []
    },
    {
      "cell_type": "code",
      "metadata": {
        "id": "mKUaglLzLYiT"
      },
      "source": [
        "lsh_index = LSHIndex(data[\"vector\"], data[\"name\"])\n",
        "lsh_index.build()"
      ],
      "execution_count": 76,
      "outputs": []
    },
    {
      "cell_type": "code",
      "metadata": {
        "colab": {
          "base_uri": "https://localhost:8080/"
        },
        "id": "oUf-ptoPLhQf",
        "outputId": "acd4d5c3-0ad5-4c1c-d671-a0d7a353e1a0"
      },
      "source": [
        "lsh_index.query(data['vector'])"
      ],
      "execution_count": 78,
      "outputs": [
        {
          "output_type": "execute_result",
          "data": {
            "text/plain": [
              "['Donnie Brasco (1997)',\n",
              " 'Rumble in the Bronx (1995)',\n",
              " 'Mission: Impossible (1996)',\n",
              " 'Four Rooms (1995)',\n",
              " 'Cold Comfort Farm (1995)',\n",
              " 'Supercop (1992)',\n",
              " 'Toy Story (1995)',\n",
              " 'Twelve Monkeys (1995)',\n",
              " 'Twister (1996)',\n",
              " 'Angels and Insects (1995)']"
            ]
          },
          "metadata": {},
          "execution_count": 78
        }
      ]
    }
  ]
}